{
 "cells": [
  {
   "cell_type": "markdown",
   "id": "3d120ed7-9b47-4d64-af91-da2f34f36c66",
   "metadata": {},
   "source": [
    "# ALP searches with NS battery fireballs"
   ]
  },
  {
   "cell_type": "markdown",
   "id": "f2104f53-8beb-4295-afe1-6944e8b1180d",
   "metadata": {},
   "source": [
    "### Literature:\n",
    "\n",
    "> Neutron star battery origional proposal:\n",
    "\n",
    "https://arxiv.org/pdf/1601.00017.pdf, https://arxiv.org/pdf/2112.01979.pdf\n",
    "\n",
    "> ALP calculations:\n",
    "\n",
    "https://arxiv.org/pdf/2005.00078.pdf, https://arxiv.org/pdf/2104.05727.pdf\n",
    "\n",
    "Neutron star - BH mergers could produce measurable transients in X-Ray or $\\gamma$-rays.  The orbital motion of the neutron star magnet creates a Faraday flux\n",
    "and corresponding power available for luminosity.\n",
    "\n",
    "<img src=\"./figs/loop.png\" width=\"300\" height=\"140\">\n",
    "\n",
    "\n",
    "Some of this power $\\mathcal{P}(r)$ could be removed from the system by ALPs. \n",
    "\n",
    "Total power available through emf:\n",
    "$$\\mathcal{P}(r)=\\frac{2 V_{\\mathcal{H}}^2(r)}{\\left(\\mathcal{R}_{\\mathcal{H}}+\\mathcal{R}_{\\mathrm{NS}}\\right)^2} \\mathcal{R}_{\\mathrm{NS}} \\rightarrow \\frac{c}{8 \\pi} V_{\\mathcal{H}}^2(r)$$\n",
    "with voltage drop \n",
    "\n",
    "$$V_{\\mathcal{H}}=2 R_{\\mathcal{H}}\\left[\\frac{r\\left(\\Omega_{\\mathrm{orb}}-\\Omega_{\\mathrm{NS}}\\right)}{c}+\\frac{S_{\\mathrm{BH}}}{4 \\sqrt{2}}\\right] B_{\\mathrm{NS}}\\left(\\frac{R_{\\mathrm{NS}}}{r}\\right)^3$$\n",
    "\n",
    "with \n",
    "\n",
    "$\\Omega_{\\mathrm{orb}}=\\sqrt{G\\left(M_{\\mathrm{BH}}+M_{\\mathrm{NS}}\\right) / r^3}$. "
   ]
  },
  {
   "cell_type": "code",
   "execution_count": 39,
   "id": "8719761a",
   "metadata": {},
   "outputs": [],
   "source": [
    "import numpy as np\n",
    "import natpy as nat\n",
    "nat.set_active_em_system('HEP')"
   ]
  },
  {
   "cell_type": "code",
   "execution_count": 2,
   "id": "c4281b09",
   "metadata": {},
   "outputs": [],
   "source": [
    "# Constants\n",
    "MS = nat.const.M_sun\n",
    "G  = nat.const.G\n",
    "# Impedence matching conition\n",
    "# RNS= (4*np.pi / nat.const.c) * nat.Ohm * nat.m\n",
    "RNS= 10*nat.km\n",
    "RH =((4*np.pi / nat.const.c) * nat.Ohm * nat.m).convert(nat.km)\n",
    "BNS= 10**16 * nat.Gauss\n",
    "MNS= 1.4*MS\n",
    "\n",
    "def Omega_orb(r,Mbh,Mns=MNS):\n",
    "    return np.sqrt(G*(Mbh + Mns) / (r)**3)\n",
    "\n",
    "def Vh(r,Mbh,Mns=MNS,BNS=BNS):\n",
    "    SBH      = 1\n",
    "    Omega_NS = 0\n",
    "    return 2*RH * (    ((1/nat.const.c)*r*Omega_orb(r,Mbh,Mns) - 0) + (1 / (4*np.sqrt(2)) )) * BNS * (RNS / r)**3\n",
    "\n",
    "def P_SM(r,Mbh,Mns=MNS,BNS=BNS):\n",
    "    res =  (nat.const.c / (8 * np.pi)) * Vh(r,Mbh,Mns,BNS)**2\n",
    "    return res\n"
   ]
  },
  {
   "cell_type": "markdown",
   "id": "c6691c93",
   "metadata": {},
   "source": [
    " Because of the steep $\\sim r^{-4}$ scaling of BH-battery power, the injected power can be evaluated as $\\mathcal{P}\\left(r_{\\mathrm{mrg}}\\right)$, where we take the separation at merger to be $r_{\\mathrm{mrg}}=R_{\\mathrm{NS}}+R_{\\mathcal{H}} = 2R_{\\mathrm{NS}}$ (from impedence matching condition). The optically thick pair plasma expands under its own pressure until it   emits as a black body with an effective temperature given approximately by,\n",
    "$$\n",
    "T_{\\mathrm{eff}}=\\left(\\frac{\\mathcal{P}\\left(r_{\\mathrm{mrg}}\\right)}{4 \\pi r_0^2 \\sigma_{\\mathrm{SB}}}\\right)^{1 / 4}\n",
    "$$\n",
    "Then at merger:\n",
    "\\begin{align}\n",
    "\\mathcal{P}\\left(r_{\\mathrm{mrg}}\\right) = \\mathcal{P}\\left(2R_{\\mathrm{NS}}\\right)\n",
    "\\end{align}\n",
    "The resistance across the horizon of the BH is  $\\mathcal{R}_{\\mathcal{H}}=4 \\pi / c$"
   ]
  },
  {
   "cell_type": "markdown",
   "id": "cc43b90a",
   "metadata": {},
   "source": [
    "\n",
    "<img src=\"./figs/power.png\" width=\"400\" height=\"240\">\n",
    "\n",
    "\n",
    "Compare with my calculation:"
   ]
  },
  {
   "cell_type": "code",
   "execution_count": 3,
   "id": "6d6a6149",
   "metadata": {},
   "outputs": [
    {
     "data": {
      "text/plain": [
       "<matplotlib.legend.Legend at 0x1edea151b50>"
      ]
     },
     "execution_count": 3,
     "metadata": {},
     "output_type": "execute_result"
    },
    {
     "data": {
      "image/png": "[encoded data removed]",
      "text/plain": [
       "<Figure size 432x288 with 1 Axes>"
      ]
     },
     "metadata": {
      "needs_background": "light"
     },
     "output_type": "display_data"
    }
   ],
   "source": [
    "import matplotlib.pyplot as plt\n",
    "Rinitial = 0.5*nat.const.G * 10*MS  / nat.const.c**2\n",
    "Rfinal   = nat.const.G * 10*MS  / nat.const.c**2\n",
    "\n",
    "RonM   = np.linspace(Rinitial,Rfinal.convert(nat.km),20)\n",
    "\n",
    "plt.plot(RonM.value,P_SM(RonM,10*MS,BNS= (10**16)*nat.Gauss).convert(nat.erg/nat.s),label=r'$B = 10^{16}$G')\n",
    "plt.plot(RonM.value,P_SM(RonM,10*MS,BNS= (10**14)*nat.Gauss).convert(nat.erg/nat.s),label=r'$B = 10^{14}$G')\n",
    "plt.plot(RonM.value,P_SM(RonM,10*MS,BNS= (10**12)*nat.Gauss).convert(nat.erg/nat.s),label=r'$B = 10^{12}$G')\n",
    "\n",
    "plt.yscale('log')\n",
    "plt.xscale('log')\n",
    "plt.legend()\n"
   ]
  },
  {
   "cell_type": "code",
   "execution_count": 69,
   "id": "99cb3557",
   "metadata": {},
   "outputs": [
    {
     "data": {
      "text/latex": [
       "$10.000033 \\; \\mathrm{km}$"
      ],
      "text/plain": [
       "<Quantity 10.00003336 km>"
      ]
     },
     "execution_count": 69,
     "metadata": {},
     "output_type": "execute_result"
    }
   ],
   "source": [
    "Rfinal = 2*nat.const.G * 10*MS  / nat.const.c**2\n",
    "RNS + RH"
   ]
  },
  {
   "cell_type": "markdown",
   "id": "c5c92a87-c963-4c23-be46-186760bee640",
   "metadata": {},
   "source": [
    "### ALP - $B$ field interactions\n",
    "\n",
    "Energy loss per unit volume:\n",
    "\n",
    "$\\begin{aligned}\n",
    "Q &=\\int \\frac{d^3 \\mathbf{k}}{(2 \\pi)^3} \\omega \\frac{g_{a \\gamma}^2(\\hat{\\mathbf{k}} \\cdot \\mathbf{B})^2}{e^{\\omega / T}-1} \\frac{\\pi}{2} \\delta\\left(\\omega-\\omega_p\\right) \\\\\n",
    "&=\\frac{g_{a \\gamma}^2 B^2}{12 \\pi\\left(e^{\\omega_p / T}-1\\right)} \\omega_p^3\n",
    "\\end{aligned}$\n",
    "\n",
    "Need to integrate this over the object volume. Will go as $r$. Gives total luminoscity (in stars/shperical symmetries):\n",
    "\n",
    "$\\begin{aligned}\\mathcal{P}=\\int_{\\odot} d^3 \\mathbf{r} \\frac{g_{a \\gamma}^2 B(r)^2}{12 \\pi\\left(e^{\\omega_p(r) / T}-1\\right)} \\omega_p(r)^3\\, ,\\quad \\omega_p^2=\\frac{4 \\pi \\alpha n_e}{m_e}\\;,\\quad B(r)=B_{\\mathrm{NS}}\\left(\\frac{R_\\rm{NS}}{r}\\right)^3\n",
    "\\end{aligned}$\n",
    "\n",
    "The electron density $n_e$ is approximated for the NS-battery by $n_{\\pm}$ which is the rest-frame, pair number density in thermal equilibrium. We estimate $n_{\\pm}$as the electron number density [e.g., 38], true for $k T \\ll m_e c^2$, which is always the case in the photosphere for $B_{\\mathrm{NS}} \\lesssim 10^{16} \\mathrm{G}$. Then,\n",
    "$$\n",
    "n_{\\pm} \\approx \\frac{4 \\pi^{3 / 2}}{h^3}\\left(2 m_e k T\\right)^{3 / 2} \\exp \\left(-\\frac{\\mathrm{m}_{\\mathrm{e}} \\mathrm{c}^2}{\\mathrm{kT}}\\right)\n",
    "$$\n",
    "where  $T \\sim \\gamma T_{\\mathrm{ph}}$. They assume $T=T_0$ and hence (need to understand why):\n",
    "$$T=   (1/k) \\cdot85 \\mathrm{keV}\\left(\\frac{B_{\\mathrm{NS}}}{10^{12} G}\\right)^{1 / 2}$$\n"
   ]
  },
  {
   "cell_type": "markdown",
   "id": "a5ae9e89",
   "metadata": {},
   "source": [
    "\n",
    "The power integral reduces to a single dimentional integral \n",
    "\n",
    "$\\begin{aligned}\\mathcal{P}(r_\\rm{merge})= \\int_0^{r_\\rm{merge}} dr\\frac{  (R_\\rm{NS})^3 4\\pi g_{a \\gamma}^2}{12 \\pi\\left(e^{\\omega_p(r) / T}-1\\right) } B^2_{\\mathrm{NS}}\\left(\\frac{1}{r}\\right)^4\\omega_p(r)^3\\,\n",
    "\\end{aligned}$\n",
    "\n",
    "From the pair density at the photosphere we estimate the plasma frequency to be (at merger),\n",
    "$$\n",
    "\\omega_p=\\sqrt{\\frac{n_{\\pm} e^2}{\\pi m_e}} \\lesssim 4.4 \\times 10^{12} \\mathrm{~Hz}\\left(\\frac{\\mathrm{B}_{\\mathrm{NS}}}{10^{12} \\mathrm{G}}\\right)^{-0.26}\n",
    "$$\n",
    "\n",
    "Thus, we can approximate the radially dependent power as having a simple r depedence:\n",
    "\n",
    "\\begin{align}\n",
    "\\mathcal{P}(r_\\rm{merge}) &\\sim \\frac{  (R_\\rm{NS})^6 4\\pi }{12 \\pi\\left(e^{\\omega_p / T}-1\\right) }g_{a \\gamma}^2 B^2_{\\mathrm{NS}} \\omega_p^3\\int_{r_\\rm{initial}}^{r_\\rm{merge}} dr\\left(\\frac{1}{r}\\right)^4\\, \\\\\n",
    "&= \\frac{  (R_\\rm{NS})^6 4\\pi }{12 \\pi\\left(e^{\\omega_p / T}-1\\right) }g_{a \\gamma}^2 B^2_{\\mathrm{NS}} \\omega_p^3 \\cdot \\left(\\frac{1}{3r_\\rm{merge}^3} - \\frac{1}{3r_\\rm{initial}^3}\\right)\n",
    "\\end{align} \n"
   ]
  },
  {
   "cell_type": "code",
   "execution_count": 70,
   "id": "ecdf7b79-d3c0-42de-b3d9-7d3dd98b6eb2",
   "metadata": {},
   "outputs": [],
   "source": [
    "# def omegaP(r,Mbh,Mns=MNS,BNS=BNS):\n",
    "#     return np.sqrt((4*np.pi*nat.const.alpha*ne(r,Mbh,Mns=MNS,BNS=BNS)) * (1/nat.const.m_e) )\n",
    "\n",
    "# Redefine BNS\n",
    "BNS    = 1E12 * nat.Gauss\n",
    "\n",
    "# For now keep plasma freq. constant: \n",
    "# - Take upper limit here to maximise power. \n",
    "omegaP = nat.const.hbar * 4.4 * 1E12 * nat.Hz * (BNS / (1E12*nat.Gauss))**(-0.26)\n",
    "\n",
    "# Take constant photosphere temp to be originating from SM. Not sure how to derive this from ALP contributions? \n",
    "Tc     =  85 * nat.keV * (BNS/(1E12*nat.Gauss))**(0.5)\n",
    "\n",
    "# Electron density. need factor since this is the pair density?\n",
    "def T(r,Mbh,Mns=MNS,BNS=BNS):\n",
    "    P   = P_SM(r,Mbh,Mns=MNS,BNS=BNS)\n",
    "    res = P / (4 * np.pi * (r**2) * nat.const.sigma_sb)\n",
    "    return res**(0.25)\n",
    "\n",
    "def ne(r,Mbh,Mns=MNS,BNS=BNS):\n",
    "    return ((4*np.pi**(1.5)) / (nat.const.h**3)) * ((2 * nat.const.m_e * nat.const.k_B * T(r,Mbh,Mns=MNS,BNS=BNS))**1.5) * np.exp( - (nat.const.m_e * nat.const.c**2) / (nat.const.k_B * T(r,Mbh,Mns=MNS,BNS=BNS)))\n",
    "\n",
    "def P_mag(ga,Mbh,Mns=MNS,BNS=BNS):\n",
    "    pre    = ((RNS**6) * 4 * np.pi) / (12*np.pi * ( np.exp(omegaP/Tc) -1)  )\n",
    "    rmerge = RNS + RH\n",
    "    return pre * (ga**2) * (BNS**2) * (omegaP**3) * ( 1 / (3 * (rmerge**3)) )  \n",
    "\n",
    "gay_range = np.linspace(1E-12,1E-10,20)*(nat.GeV**(-1))\n",
    "\n"
   ]
  },
  {
   "cell_type": "code",
   "execution_count": 71,
   "id": "e5002a3b",
   "metadata": {},
   "outputs": [
    {
     "data": {
      "text/latex": [
       "$9.5770845 \\times 10^{14} \\; \\mathrm{\\frac{erg}{s}}$"
      ],
      "text/plain": [
       "<Quantity 9.57708451e+14 erg / s>"
      ]
     },
     "execution_count": 71,
     "metadata": {},
     "output_type": "execute_result"
    }
   ],
   "source": [
    "P_mag(1E-11 * (nat.GeV**(-1)),10*MS).convert(nat.erg*nat.s**(-1))\n",
    "\n",
    "\n",
    "##################################################################\n",
    "# Plot "
   ]
  },
  {
   "cell_type": "markdown",
   "id": "daf84abb-1015-42f7-aaf6-94be8d873d80",
   "metadata": {},
   "source": [
    "\n",
    "Gives rise to blackbody temperature:\n",
    "$$T_{\\mathrm{eff}}=\\left(\\frac{\\mathcal{P}\\left(r_{\\mathrm{mrg}}\\right)}{4 \\pi r_0^2 \\sigma_{\\mathrm{SB}}}\\right)^{1 / 4}$$\n",
    "\n",
    "The resulting spectrum is found from integrating the multicomponent black-body emission over a sphere of radius $R_{\\rm{ph}}$ that is expanding with Lorentz factor $\\gamma=R_{\\rm{ph}} / r_0$ and with rest frame photosphere temperature $T_0 / \\gamma$, for initial injection temperature $T_0$. This calculation is carried out in full in 1601.00017 but we need to do this assuming power loss from ALP production. \n",
    "\n",
    "That is, \n",
    "\n",
    "$$T_0 = T_{0_\\rm{SM}} - T_{0_\\rm{ALP}}$$\n",
    "\n",
    "\n",
    "The observable flux is estimated as \n",
    "\n",
    "$$F_{\\mathrm{FB}, \\mathrm{obs}} \\approx 2 \\pi \\mathcal{K}\\left(1-\\cos \\gamma^{-1}\\right)\\left(\\frac{R_{\\mathrm{ph}}}{D_L}\\right)^2 \\int_{\\nu_{\\min }}^{\\nu_{\\max }} \\frac{2 h \\nu^3}{c^2} \\frac{d \\nu}{\\exp \\left[\\frac{\\mathrm{h} \\nu}{\\mathrm{kT_0}}\\right]-1},$$\n",
    "\n",
    "This has a peak frequency \n",
    "\n",
    "$$h \\nu_{\\text {peak }}=0.24 \\mathrm{MeV}\\left(\\frac{B_{\\mathrm{NS}}}{10^{12} G}\\right)^{1 / 2}$$\n",
    "\n",
    "in the SM only regime. "
   ]
  },
  {
   "cell_type": "markdown",
   "id": "13ce14c8-5dbe-48f8-8b9b-d0353d5213c0",
   "metadata": {},
   "source": [
    "### Primakoff effect \n",
    "(might not need in our system?)\n",
    "$$\n",
    "Q=\\frac{g_{a \\gamma}^2 T^7}{4 \\pi} F\\left(k_{\\mathrm{S}}^2\\right),\n",
    "$$\n",
    "where\n",
    "$$\n",
    "k_{\\mathrm{S}}^2=\\frac{4 \\pi \\alpha}{T} n_e+\\frac{4 \\pi \\alpha}{T} \\sum_j n_j Z_j^2\n",
    "$$\n",
    "is the Debye screening scale in a nonrelativistic, nondegenerate plasma and\n",
    "$$\n",
    "\\begin{aligned}\n",
    "F\\left(k_{\\mathrm{S}}^2\\right) &=\\frac{k_{\\mathrm{S}}^2}{2 \\pi^2 T^6} \\int_0^{\\infty} d \\omega \\frac{\\omega}{e^{\\omega / T}-1} \\\\\n",
    "& \\times\\left[\\left(\\omega^2+k_{\\mathrm{S}}^2\\right) \\ln \\left(1+\\frac{\\omega^2}{k_{\\mathrm{S}}^2}\\right)-\\omega^2\\right]\n",
    "\\end{aligned}\n",
    "$$"
   ]
  },
  {
   "cell_type": "markdown",
   "id": "5a090f64-9a9b-494b-b230-e5de602f749d",
   "metadata": {},
   "source": [
    "### $\\gamma \\gamma \\rightarrow $ ALP"
   ]
  },
  {
   "cell_type": "code",
   "execution_count": 4,
   "id": "0a0dbc6d",
   "metadata": {},
   "outputs": [
    {
     "data": {
      "text/plain": [
       "167.54"
      ]
     },
     "execution_count": 4,
     "metadata": {},
     "output_type": "execute_result"
    }
   ],
   "source": [
    "80.45+19.99+6+20.06+28.89+12.15"
   ]
  }
 ],
 "metadata": {
  "kernelspec": {
   "display_name": "Python 3 (ipykernel)",
   "language": "python",
   "name": "python3"
  },
  "language_info": {
   "codemirror_mode": {
    "name": "ipython",
    "version": 3
   },
   "file_extension": ".py",
   "mimetype": "text/x-python",
   "name": "python",
   "nbconvert_exporter": "python",
   "pygments_lexer": "ipython3",
   "version": "3.9.12"
  }
 },
 "nbformat": 4,
 "nbformat_minor": 5
}
